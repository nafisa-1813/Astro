{
 "cells": [
  {
   "cell_type": "markdown",
   "id": "331d9437-7c34-4c34-9d66-7c069f372803",
   "metadata": {},
   "source": [
    "My second to last project script takes a look at how to create multi-output regression models. Here, I will take IID impacts and consider QT, as well as QI signals with a rise time and amplitude larger 0. 4 input values will map to 2 output values: a particle's velocity and mass.\n",
    "\n",
    "Although this problem is quite straight-forward for a keras regression task, I will use Keras Tuner to optimize our network architecture. We can take it as a \"blue print\" for other or future projects. Further, I will add some new functionalities in Keras Tuner that will enable us to conduct K-Fold cross validation trainings in this hyper-parameter optimization process."
   ]
  },
  {
   "cell_type": "markdown",
   "id": "a9b5f226-1b29-4253-8aff-eba5805f1334",
   "metadata": {
    "tags": []
   },
   "source": [
    "## Read in and split the data"
   ]
  },
  {
   "cell_type": "code",
   "execution_count": 1,
   "id": "bc6bc21d-234a-4ef5-adb8-d90c2bff9a14",
   "metadata": {
    "tags": []
   },
   "outputs": [],
   "source": [
    "import pathlib\n",
    "import zipfile\n",
    "import keras_tuner\n",
    "import matplotlib\n",
    "from matplotlib import pyplot as plt\n",
    "import numpy as np\n",
    "import pandas as pd\n",
    "import sklearn\n",
    "import sklearn.model_selection\n",
    "import tensorflow as tf\n",
    "plt.style.use('dark_background')\n",
    "plt.rcParams.update({\n",
    "    \"font.size\": 14\n",
    "})"
   ]
  },
  {
   "cell_type": "code",
   "execution_count": 2,
   "id": "a7380415-d248-4a49-a6d5-f77b22c00905",
   "metadata": {
    "tags": []
   },
   "outputs": [],
   "source": [
    "# Read in the level 1 data\n",
    "cal_df = pd.read_pickle(\"data/level1/CDA__CAT_IID_cal_data.pkl\")"
   ]
  },
  {
   "cell_type": "code",
   "execution_count": 3,
   "id": "9b1c7362-238e-4e7e-8e51-5ad42202dca8",
   "metadata": {
    "tags": []
   },
   "outputs": [],
   "source": [
    "iid_qi_cal_df = cal_df.loc[(cal_df[\"TAR\"] == \"IID\")\n",
    "                           & (cal_df[\"QI_CHARGE\"] > 0.0)\n",
    "                           & (cal_df[\"QI_TR\"] > 0.0)\n",
    "                           & (cal_df[\"QT_CHARGE\"] > 0.0)\n",
    "                           & (cal_df[\"QT_TR\"] > 0.0)].copy()\n",
    "\n",
    "# Adding the LOG10 scaled data of the QI channel\n",
    "iid_qi_cal_df.loc[:, \"QI_LOG10_fC\"] = np.log10(iid_qi_cal_df[\"QI_CHARGE\"])\n",
    "iid_qi_cal_df.loc[:, \"QT_LOG10_fC\"] = np.log10(iid_qi_cal_df[\"QT_CHARGE\"])\n",
    "\n",
    "# Convert the mass and apply log10, too\n",
    "iid_qi_cal_df.loc[:, \"MASS_LOG10_fg\"] = np.log10(iid_qi_cal_df[\"MASS\"] / 10e-15)\n",
    "\n",
    "# Rename the rise times and velocity\n",
    "iid_qi_cal_df.rename(columns={\"QI_TR\": \"QI_TR_mus\",\n",
    "                              \"QT_TR\": \"QT_TR_mus\",\n",
    "                              \"PSU_VEL\": \"PSU_VEL_kms\"}, inplace=True)\n",
    "\n",
    "# Considering only \"relevant\" data: rise time, log10 charge and the velocity\n",
    "iid_qi_cal_df = iid_qi_cal_df[[\"QI_TR_mus\", \"QI_LOG10_fC\",\n",
    "                               \"QT_TR_mus\", \"QT_LOG10_fC\",\n",
    "                               \"PSU_VEL_kms\", \"MASS_LOG10_fg\"]].copy()"
   ]
  },
  {
   "cell_type": "code",
   "execution_count": 4,
   "id": "a3302965-f17c-4420-be9a-918841ce8ea9",
   "metadata": {
    "tags": []
   },
   "outputs": [],
   "source": [
    "# Split the data in input and output values\n",
    "X_pre, y_pre = iid_qi_cal_df.values[:, :-2], iid_qi_cal_df.values[:, -2:]"
   ]
  },
  {
   "cell_type": "markdown",
   "id": "7e2f651f-e42d-4b79-943f-c5fde44c2290",
   "metadata": {
    "tags": []
   },
   "source": [
    "## Machine Learning Training"
   ]
  },
  {
   "cell_type": "code",
   "execution_count": 5,
   "id": "3ab288f1-3229-45b0-a61a-37d5e5336c9a",
   "metadata": {
    "tags": []
   },
   "outputs": [],
   "source": [
    "# Define a model that can be used and interpreted by Keras Tuner\n",
    "def build_model(hp):\n",
    "    \n",
    "    # Input shape is 4: rise time and charge for the QT and QI, respectively\n",
    "    inputs = tf.keras.Input(shape=(4,),\n",
    "                            name=\"iid_data\",)\n",
    "\n",
    "    # Each layer will contain some \"range\" of activation units that will be used by Keras Tuner\n",
    "    layer = tf.keras.layers.Dense(units=hp.Int(\"1st_units\",\n",
    "                                               min_value=64,\n",
    "                                               max_value=256,\n",
    "                                               step=64),\n",
    "                                  activation=hp.Choice(\"1st_activation\",\n",
    "                                                       [\"relu\", \"leaky_relu\"]), )(inputs)\n",
    "\n",
    "    if hp.Boolean(\"1st_dropout\"):\n",
    "        layer = tf.keras.layers.Dropout(hp.Float(\"1st_dr_rate\",\n",
    "                                                 min_value=0.1,\n",
    "                                                 max_value=0.5,\n",
    "                                                 step=0.1))(layer)\n",
    "\n",
    "    layer = tf.keras.layers.Dense(units=hp.Int(\"2nd_units\",\n",
    "                                               min_value=16,\n",
    "                                               max_value=64,\n",
    "                                               step=16),\n",
    "                                  activation=hp.Choice(\"2nd_activation\",\n",
    "                                                       [\"relu\", \"leaky_relu\"]), )(layer)\n",
    "\n",
    "    if hp.Boolean(\"2nd_dropout\"):\n",
    "        layer = tf.keras.layers.Dropout(hp.Float(\"2nd_dr_rate\",\n",
    "                                                 min_value=0.1,\n",
    "                                                 max_value=0.5,\n",
    "                                                 step=0.1))(layer)\n",
    "                                  \n",
    "    # One \"branch\" for the velocity and one for the log10 mass\n",
    "    psu_layer = tf.keras.layers.Dense(units=hp.Int(\"1st_vel_units\",\n",
    "                                                   min_value=4,\n",
    "                                                   max_value=16,\n",
    "                                                   step=4),\n",
    "                                      activation=hp.Choice(\"1st_vel_activation\",\n",
    "                                                           [\"relu\", \"leaky_relu\"]), )(layer)\n",
    "    \n",
    "    # Velocity output layer\n",
    "    output_psu_layer = tf.keras.layers.Dense(units=1,\n",
    "                                             name=\"output_PSU\")(psu_layer)\n",
    "\n",
    "    mass_layer = tf.keras.layers.Dense(units=hp.Int(\"1st_mass_units\",\n",
    "                                                    min_value=4,\n",
    "                                                    max_value=16,\n",
    "                                                    step=4),\n",
    "                                       activation=hp.Choice(\"1st_mass_activation\",\n",
    "                                                            [\"relu\", \"leaky_relu\"]), )(layer)\n",
    "    \n",
    "    # Log10 mass output layer\n",
    "    output_mass_layer = tf.keras.layers.Dense(units=1,\n",
    "                                              name=\"output_mass\")(mass_layer)\n",
    "\n",
    "\n",
    "    # Build up the model with the two output branches\n",
    "    model = tf.keras.Model(inputs=inputs, outputs=[output_psu_layer, output_mass_layer])\n",
    "\n",
    "    # The 2 losses define the loss function per branch. In this case: 2 times the MSE\n",
    "    # Note: one could also weight the losses; for example if one wants to \"weight\" the velocity\n",
    "    # loss higher than the mass' one\n",
    "    model.compile(optimizer=\"adam\",\n",
    "                  loss=[\"mean_squared_error\", \"mean_squared_error\"],\n",
    "                  metrics=[tf.keras.metrics.RootMeanSquaredError(), \"mean_absolute_error\"])\n",
    "    \n",
    "    return model"
   ]
  },
  {
   "cell_type": "code",
   "execution_count": 6,
   "id": "679ae673-976a-4e88-b63f-3c3ba10c36bb",
   "metadata": {
    "tags": []
   },
   "outputs": [
    {
     "name": "stderr",
     "output_type": "stream",
     "text": [
      "2023-05-13 14:39:21.431969: I tensorflow/core/platform/cpu_feature_guard.cc:151] This TensorFlow binary is optimized with oneAPI Deep Neural Network Library (oneDNN) to use the following CPU instructions in performance-critical operations:  AVX2 FMA\n",
      "To enable them in other operations, rebuild TensorFlow with the appropriate compiler flags.\n"
     ]
    }
   ],
   "source": [
    "# Define a callback function that conducts Early Stopping, based on the validation loss\n",
    "es_callback = tf.keras.callbacks.EarlyStopping(monitor='val_loss',\n",
    "                                               patience=25,\n",
    "                                               restore_best_weights=True)\n",
    "\n",
    "# Creat a custom Keras Tuner\n",
    "class CVTuner(keras_tuner.engine.tuner.Tuner):\n",
    "    \n",
    "    # Scaling method\n",
    "    def __scale(self, train, test):\n",
    "        \n",
    "        scaler = sklearn.preprocessing.StandardScaler()\n",
    "\n",
    "        scaler.fit(train)\n",
    "        train_sc = scaler.transform(train)\n",
    "        test_sc = scaler.transform(test)\n",
    "\n",
    "        return train_sc, test_sc\n",
    "    \n",
    "    # This function runs during \"search\" and contains a scikit-learn based K-Fold cross validation\n",
    "    def run_trial(self, trial, x, y, batch_size=16, epochs=1):\n",
    "        \n",
    "        # Define the 5-K-Fold cross validation -> 1/5 are for testing (20 %), rest (80 %) are for \n",
    "        # training and validation\n",
    "        cv = sklearn.model_selection.KFold(5)\n",
    "        \n",
    "        # Create a list that stores the resulting validation loses during the 5 fold validation\n",
    "        # process\n",
    "        val_losses = []\n",
    "\n",
    "        # Conduct now a training process (5 times)\n",
    "        for train_indices, test_indices in cv.split(x):\n",
    "            \n",
    "            x_train, x_test = x[train_indices], x[test_indices]\n",
    "            y_train, y_test = y[train_indices], y[test_indices]\n",
    "            \n",
    "            x_train, x_test = self.__scale(x_train, x_test)\n",
    "            y_train, y_test = self.__scale(y_train, y_test)\n",
    "            \n",
    "            # Conduct the training\n",
    "            model = self.hypermodel.build(trial.hyperparameters)\n",
    "            model.fit(x_train,\n",
    "                      y_train,\n",
    "                      validation_split=0.25,\n",
    "                      batch_size=batch_size,\n",
    "                      epochs=epochs,\n",
    "                      callbacks=[es_callback],\n",
    "                      verbose=0)\n",
    "            \n",
    "            # Store the validation loss\n",
    "            val_losses.append(min(model.history.history['val_loss']))\n",
    "\n",
    "        # Compute now the mean of all 5 validation losses as the final result\n",
    "        self.oracle.update_trial(trial.trial_id, {'val_loss': np.mean(val_losses)})\n",
    "\n",
    "# Build up the Tuner\n",
    "tuner = CVTuner(hypermodel=build_model,\n",
    "                oracle=keras_tuner.oracles.BayesianOptimization(\n",
    "                    objective='val_loss',\n",
    "                    max_trials=50),\n",
    "                overwrite=True,\n",
    "                project_name=\"CDA_IID_Calibration\")"
   ]
  },
  {
   "cell_type": "code",
   "execution_count": 7,
   "id": "54497790-4149-4454-ba65-120b1a7c9a50",
   "metadata": {},
   "outputs": [
    {
     "name": "stdout",
     "output_type": "stream",
     "text": [
      "Trial 50 Complete [00h 00m 17s]\n",
      "val_loss: 0.7709973692893982\n",
      "\n",
      "Best val_loss So Far: 0.7701894640922546\n",
      "Total elapsed time: 00h 15m 24s\n",
      "INFO:tensorflow:Oracle triggered exit\n"
     ]
    }
   ],
   "source": [
    "# Conduct now a hyper-parameter search\n",
    "tuner.search(x=X_pre, y=y_pre, epochs=100)"
   ]
  },
  {
   "cell_type": "markdown",
   "id": "49cb3b13-e7c0-40cb-b760-a9f157aa1547",
   "metadata": {
    "tags": []
   },
   "source": [
    "## Best ML Model"
   ]
  },
  {
   "cell_type": "code",
   "execution_count": 8,
   "id": "460d0730-baba-45e3-9e8e-e4bb66ddd2cd",
   "metadata": {},
   "outputs": [],
   "source": [
    "# Obtain the hyper-parameters of the best model and re-build the model, based on these paramters\n",
    "best_hps = tuner.get_best_hyperparameters()[0]\n",
    "model = tuner.hypermodel.build(best_hps)"
   ]
  },
  {
   "cell_type": "code",
   "execution_count": 9,
   "id": "5f134f9e-898a-4c18-9da4-b3e1b7d6ba66",
   "metadata": {
    "tags": []
   },
   "outputs": [],
   "source": [
    "# Let's re-create our test / train splitting and scaling\n",
    "X_train, X_test, y_train, y_test = sklearn.model_selection.train_test_split(X_pre,\n",
    "                                                                            y_pre,\n",
    "                                                                            test_size=0.2)\n",
    "\n",
    "# Input values\n",
    "X_scaler = sklearn.preprocessing.StandardScaler()\n",
    "\n",
    "X_scaler.fit(X_train)\n",
    "X_train_scaled = X_scaler.transform(X_train)\n",
    "X_test_scaled = X_scaler.transform(X_test)\n",
    "\n",
    "# Output Values\n",
    "y_scaler = sklearn.preprocessing.StandardScaler()\n",
    "\n",
    "y_scaler.fit(y_train)\n",
    "y_train_scaled = y_scaler.transform(y_train)\n",
    "y_test_scaled = y_scaler.transform(y_test)\n",
    "\n",
    "# Split the training data into training and validation\n",
    "X_train_scaled, X_val_scaled, y_train_scaled, y_val_scaled = \\\n",
    "    sklearn.model_selection.train_test_split(X_train_scaled,\n",
    "                                             y_train_scaled,\n",
    "                                             test_size=0.25)"
   ]
  },
  {
   "cell_type": "code",
   "execution_count": 10,
   "id": "2eabe5d8-5675-4952-83d2-bd155634f172",
   "metadata": {
    "tags": []
   },
   "outputs": [
    {
     "data": {
      "text/plain": [
       "<keras.callbacks.History at 0x7ff5c14f87f0>"
      ]
     },
     "execution_count": 10,
     "metadata": {},
     "output_type": "execute_result"
    }
   ],
   "source": [
    "# Now we create our final model. But without any cross-validation. This could be a nice task for the\n",
    "# reader to finalize it using 5-K-Fold cross validation\n",
    "model.fit(x=X_train_scaled,\n",
    "          y={\"output_PSU\": y_train_scaled[:,0].reshape(-1,1),\n",
    "             \"output_mass\": y_train_scaled[:,1].reshape(-1,1)},\n",
    "          batch_size=16,\n",
    "          epochs=300,\n",
    "          validation_data=[X_val_scaled, {\"output_PSU\": y_val_scaled[:,0].reshape(-1,1),\n",
    "                                          \"output_mass\": y_val_scaled[:,1].reshape(-1,1)}],\n",
    "          verbose=0,\n",
    "          callbacks=[es_callback])"
   ]
  },
  {
   "cell_type": "markdown",
   "id": "a069cb02-16c2-4cf7-a4c0-26ae87d53ffc",
   "metadata": {
    "tags": []
   },
   "source": [
    "## Metric results"
   ]
  },
  {
   "cell_type": "code",
   "execution_count": 11,
   "id": "b0268beb-595c-460f-92e4-c5144f1077da",
   "metadata": {},
   "outputs": [
    {
     "data": {
      "text/plain": [
       "<matplotlib.legend.Legend at 0x7ff5c141b3d0>"
      ]
     },
     "execution_count": 11,
     "metadata": {},
     "output_type": "execute_result"
    },
    {
     "data": {
      "image/png": "[encoded data removed]",
      "text/plain": [
       "<Figure size 1080x360 with 3 Axes>"
      ]
     },
     "metadata": {},
     "output_type": "display_data"
    }
   ],
   "source": [
    "# Show all losses\n",
    "fig, (ax1, ax2, ax3) = plt.subplots(1, 3, figsize=(15, 5), sharey=True)\n",
    "\n",
    "ax1.set_title(\"Complete Loss\")\n",
    "ax1.plot(model.history.history['loss'], label=\"loss\")\n",
    "ax1.plot(model.history.history['val_loss'], label=\"val_loss\")\n",
    "ax1.set_xlabel(r\"Epoch\")\n",
    "ax1.set_ylabel(r\"Loss\")\n",
    "ax1.grid(axis=\"y\", linestyle=\"dashed\")\n",
    "ax1.legend()\n",
    "\n",
    "ax2.set_title(\"Velocity Loss\")\n",
    "ax2.plot(model.history.history['output_PSU_loss'], label=\"loss\")\n",
    "ax2.plot(model.history.history['val_output_PSU_loss'], label=\"val_loss\")\n",
    "ax2.set_xlabel(r\"Epoch\")\n",
    "ax2.grid(axis=\"y\", linestyle=\"dashed\")\n",
    "ax2.legend()\n",
    "\n",
    "ax3.set_title(\"Log10 Mass Loss\")\n",
    "ax3.plot(model.history.history['output_mass_loss'], label=\"loss\")\n",
    "ax3.plot(model.history.history['val_output_mass_loss'], label=\"val_loss\")\n",
    "ax3.set_xlabel(r\"Epoch\")\n",
    "ax3.grid(axis=\"y\", linestyle=\"dashed\")\n",
    "ax3.legend()"
   ]
  },
  {
   "cell_type": "code",
   "execution_count": 12,
   "id": "ffb38035-6d65-4113-9c71-77a3f38a65bc",
   "metadata": {
    "tags": []
   },
   "outputs": [
    {
     "name": "stdout",
     "output_type": "stream",
     "text": [
      "10/10 [==============================] - 0s 2ms/step - loss: 3.8648 - output_PSU_loss: 1.9051 - output_mass_loss: 1.9597 - output_PSU_root_mean_squared_error: 1.3803 - output_PSU_mean_absolute_error: 0.8541 - output_mass_root_mean_squared_error: 1.3999 - output_mass_mean_absolute_error: 0.8806\n"
     ]
    }
   ],
   "source": [
    "# Compute the test losses\n",
    "test_losses = model.evaluate(X_test_scaled, y_test_scaled)"
   ]
  },
  {
   "cell_type": "code",
   "execution_count": 13,
   "id": "441d719c-0c21-475e-8f9c-427f4b6d1a44",
   "metadata": {
    "tags": []
   },
   "outputs": [
    {
     "data": {
      "text/plain": [
       "array([[22.59201777,  0.40255847]])"
      ]
     },
     "execution_count": 13,
     "metadata": {},
     "output_type": "execute_result"
    }
   ],
   "source": [
    "# RMSE (velocity + LOG10 mass)\n",
    "y_scaler.inverse_transform([[test_losses[3], test_losses[-2]]])"
   ]
  },
  {
   "cell_type": "code",
   "execution_count": 14,
   "id": "8b79fad6-2709-4f92-8cc1-99fadbf0accb",
   "metadata": {
    "tags": []
   },
   "outputs": [
    {
     "data": {
      "text/plain": [
       "array([[17.68036812, -0.16500196]])"
      ]
     },
     "execution_count": 14,
     "metadata": {},
     "output_type": "execute_result"
    }
   ],
   "source": [
    "# MAE (velocity + LOG10 mass)\n",
    "y_scaler.inverse_transform([[test_losses[4], test_losses[-1]]])"
   ]
  }
 ],
 "metadata": {
  "kernelspec": {
   "display_name": "Python 3",
   "language": "python",
   "name": "python3"
  },
  "language_info": {
   "codemirror_mode": {
    "name": "ipython",
    "version": 3
   },
   "file_extension": ".py",
   "mimetype": "text/x-python",
   "name": "python",
   "nbconvert_exporter": "python",
   "pygments_lexer": "ipython3",
   "version": "3.11.4"
  }
 },
 "nbformat": 4,
 "nbformat_minor": 5
}
