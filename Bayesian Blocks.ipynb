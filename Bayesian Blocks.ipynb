{
 "cells": [
  {
   "cell_type": "markdown",
   "id": "604f4f59-2e56-4958-a07a-aef4c9300249",
   "metadata": {},
   "source": [
    "I am concluding the calibration efforts by going \"back to the roots\". There are several ways to calibrate instruments using Tensorflow / Keras, Hyper-paramter optimization and so on. Our final model shall extend / improve this particular model with the same input parameters. In this case, researchers do not need to re-write their entire analysis and required data, but can simply replace the velocity computation function with the ML model.\n",
    "\n",
    "However, the final model will need some improvement."
   ]
  },
  {
   "cell_type": "markdown",
   "id": "43c83c76-7c20-42cc-b443-7b533457ce9b",
   "metadata": {
    "jp-MarkdownHeadingCollapsed": true,
    "tags": []
   },
   "source": [
    "## Read in the data"
   ]
  },
  {
   "cell_type": "code",
   "execution_count": 1,
   "id": "487beadc-ae0e-497d-ac43-6a514a937d45",
   "metadata": {},
   "outputs": [],
   "source": [
    "import keras_tuner\n",
    "import pathlib\n",
    "import zipfile\n",
    "import matplotlib\n",
    "from matplotlib import pyplot as plt\n",
    "import numpy as np\n",
    "import pandas as pd\n",
    "import sklearn\n",
    "import sklearn.model_selection\n",
    "import tensorflow as tf\n",
    "plt.style.use('dark_background')\n",
    "plt.rcParams.update({\n",
    "    \"font.size\": 14\n",
    "})"
   ]
  },
  {
   "cell_type": "code",
   "execution_count": 2,
   "id": "7a7295da-9352-4067-a5c4-12ad1358ed5e",
   "metadata": {},
   "outputs": [],
   "source": [
    "# Read in the level 1 data\n",
    "cal_df = pd.read_pickle(\"data/level1/CDA__CAT_IID_cal_data.pkl\")"
   ]
  },
  {
   "cell_type": "code",
   "execution_count": 3,
   "id": "a7f634eb-4cf3-49ac-96cc-ea99afb183bf",
   "metadata": {},
   "outputs": [],
   "source": [
    "iid_qi_cal_df = cal_df.loc[(cal_df[\"TAR\"] == \"IID\")\n",
    "                           & (cal_df[\"QI_CHARGE\"] > 0.0)\n",
    "                           & (cal_df[\"QI_TR\"] > 0.0)].copy()\n",
    "\n",
    "iid_qi_cal_df = iid_qi_cal_df[[\"QI_TR\", \"PSU_VEL\"]]"
   ]
  },
  {
   "cell_type": "markdown",
   "id": "465edb7d-8bc7-4204-82fa-1ac774aa0777",
   "metadata": {
    "jp-MarkdownHeadingCollapsed": true,
    "tags": []
   },
   "source": [
    "## Prior Calibrations"
   ]
  },
  {
   "cell_type": "code",
   "execution_count": 4,
   "id": "a685f7f8-71f1-4708-a6c8-2547ba1c0dcf",
   "metadata": {
    "tags": []
   },
   "outputs": [],
   "source": [
    "class DefinitionRangeError(Exception):\n",
    "    \"\"\"\n",
    "    Class DefinitionsRangeError\n",
    "\n",
    "    An Exception / Error class that is used to control proper calibration\n",
    "    function usage. If the user uses a function with parameters that are\n",
    "    out of range (outside the definition / math domain), this error can\n",
    "    be raised to inform the user about the proper range.\n",
    "\n",
    "    Attributes\n",
    "    ----------\n",
    "    None\n",
    "\n",
    "    Examples\n",
    "\n",
    "    \"\"\"\n",
    "    def __init__(self, trise_min=0, trise_max=np.inf, amp_min=0, amp_max=np.inf):\n",
    "        \"\"\"\n",
    "        Method __init__\n",
    "\n",
    "        Initializing method\n",
    "\n",
    "        Parameters\n",
    "        ----------\n",
    "        trise_min : int, float, str\n",
    "            Lower boundary of the rise time domain.\n",
    "\n",
    "            Physical Quantity: microseconds (same as the calibration functions)\n",
    "\n",
    "        trise_max : int, float, str\n",
    "            Upper boundary of the rise time domain\n",
    "\n",
    "            Physical Quantity: microseconds (same as the calibration functions)\n",
    "\n",
    "        amp_min : int, float, str\n",
    "            Lower boundary of the amplitude domain\n",
    "\n",
    "            Physical Quantity: femtoCoulomb (same as the calibration functions)\n",
    "\n",
    "        amp_max : int, float, str\n",
    "            Upper boundary of the amplitude domain\n",
    "\n",
    "            Physical Quantity: femtoCoulomb (same as the calibration functions)\n",
    "\n",
    "        \"\"\"\n",
    "\n",
    "\n",
    "        # Set default message\n",
    "        default_msg = 'Out of Range. Please set the parameters within the following range: \\n\\n'\n",
    "\n",
    "        # Set message and the definition range values.\n",
    "        super().__init__(default_msg \\\n",
    "                         + 'trise (microseconds):      (' + str(trise_min) + ', ' \\\n",
    "                                                          + str(trise_max) + ') \\n' \\\n",
    "                         + 'amp (femtoCoulomb):        (' + str(amp_min)   + ', ' \\\n",
    "                                                          + str(amp_max)   + ') \\n' \\\n",
    "                         + '                      log10(' + str(np.log10(amp_min)) + ', ' \\\n",
    "                                                          + str(np.log10(amp_max)) + ')')\n",
    "        \n",
    "def srama_velocity_2000(chnl, trise):\n",
    "    \"\"\"\n",
    "    Function srama_velocity_2000\n",
    "\n",
    "    This function computes the mean velocity and corresponding error for a\n",
    "    given channel rise time. The rise time shall be given in micro seconds and\n",
    "    the returned dictionary, that contains the computed values are given in\n",
    "    km/s. The functions are determined by [2].\n",
    "\n",
    "    Parameters\n",
    "    ----------\n",
    "    chnl : str\n",
    "        Requested channel calibration function. Available options:\n",
    "            'cat_qc'\n",
    "            'cat_qi'\n",
    "            'iid_qt'\n",
    "            'iid_qi'\n",
    "\n",
    "    trise : int, float\n",
    "        Rise time value.\n",
    "        Physical Quantity: microseconds\n",
    "\n",
    "    Returns\n",
    "    -------\n",
    "    out : tuple\n",
    "        Tuple with the mean and error velocity.\n",
    "\n",
    "        Pysical Quantity: 'mean' : km/s\n",
    "                          'err'  : km/s\n",
    "\n",
    "    Notes:\n",
    "    ------\n",
    "    All three functions are defined within a certain rise time and amplitude\n",
    "    domain. However, these values were not provided by [1]. Srama 2017 (priv.\n",
    "    comm.) suggests to have signals with an amplitude of at least 10 fC (for\n",
    "    each channel). The rise times and resulting velocities should  be handled\n",
    "    with care. Extremely low velocities (< 2 - 5 km/s) and high paces\n",
    "    (> 60 km/s) are mostly likely outside the definition range. Since no exact\n",
    "    values are provided, no DefinitionRangeError raises.\n",
    "\n",
    "    References\n",
    "    ----------\n",
    "    [2] R. Srama. Vom Cosmic-Dust-Analyzer zur Modellbeschreibung\n",
    "        wissenschaftlicher Raumsonden. PhD thesis, Technische Universität\n",
    "        München, 2000\n",
    "\n",
    "    Examples\n",
    "    --------\n",
    "    >>> srama_velocity_2000(chnl='cat_qc', trise=10)\n",
    "    (3.109411534977029, 1.5547057674885145)\n",
    "\n",
    "    >>> srama_velocity_2000('cat_qc', trise=0.0)\n",
    "    ZeroDivisionError: 0.0 cannot be raised to a negative power\n",
    "\n",
    "    Negative rise times lead to complex number, that has no technical or\n",
    "    physical meaning. \n",
    "\n",
    "    \"\"\"\n",
    "    \n",
    "    # Lower the 'chnl' characters\n",
    "    chnl = chnl.lower()\n",
    "    \n",
    "    # The calibration functions from Srama's PhD thesis are given in tens of\n",
    "    # nanoseconds (10 ns). The variable, that describes the functions in his\n",
    "    # thesis is named 'x' and is adapted in this function.\n",
    "    x_10ns = trise * 100.0\n",
    "\n",
    "    # Definition of each calibration function, namely of CAT QC, CAT QI, IID QT\n",
    "    # and IID QI. Each function is defined as a lambda operator and is only\n",
    "    # used within this function\n",
    "    #\n",
    "    # CAT QC: 10 x nanoseconds -> km/s\n",
    "    mean_vel_cat_qc = lambda x_10ns: 5.35 + 1674270.0 * (x_10ns ** (-2.71)) \\\n",
    "                                     - 0.002253 * x_10ns\n",
    "\n",
    "    # CAT QI: 10 x nanoseconds -> km/s\n",
    "    mean_vel_cat_qi = lambda x_10ns: 3.535 + 18024000.0 * (x_10ns ** (-2.22)) \\\n",
    "                                     - 0.00127 * x_10ns\n",
    "\n",
    "    # IID QT: 10 x nanoseconds -> km/s\n",
    "    mean_vel_iid_qt = lambda x_10ns: 9.22 + 1.87 * (10.0 ** (5.0)) * (x_10ns ** (-1.26)) \\\n",
    "                                     - 1.45 * (10.0 ** (-3.0)) * x_10ns\n",
    "\n",
    "    # IID QI: 10 x nanoseconds -> km/s\n",
    "    mean_vel_iid_qi = lambda x_10ns: 11.3 + 3.58 * (10.0 ** (5.0)) * (x_10ns ** (-1.35)) \\\n",
    "                                     - 2.21 * (10.0 ** (-3.0)) * x_10ns\n",
    "\n",
    "    # Dictionary that summarizes all parameters, functions, etc. for each\n",
    "    # channel. Each sub-dictionary contains the info for each channel\n",
    "    # separately.\n",
    "    #\n",
    "    # Structure\n",
    "    # CHANNEL\n",
    "    #\n",
    "    #     Mean function (lambda operator)\n",
    "    #     Velocity error factor\n",
    "    _vel_cal = {'cat_qc': \\\n",
    "                    {\n",
    "                        'mean_func': mean_vel_cat_qc, \\\n",
    "                        'err_fac':   0.50\n",
    "                    }, \\\n",
    "                'cat_qi': \\\n",
    "                    {\n",
    "                        'mean_func': mean_vel_cat_qi, \\\n",
    "                        'err_fac':   0.60\n",
    "                    }, \\\n",
    "                'iid_qt': \\\n",
    "                    {\n",
    "                        'mean_func': mean_vel_iid_qt, \\\n",
    "                        'err_fac':   0.64\n",
    "                    }, \\\n",
    "                'iid_qi': \\\n",
    "                    {\n",
    "                        'mean_func': mean_vel_iid_qi, \\\n",
    "                        'err_fac':   0.60\n",
    "                    }\n",
    "               }\n",
    "                    \n",
    "    # Compute the mean velocity in km/s, based on the rise time\n",
    "    mean_vel = _vel_cal[chnl]['mean_func'](x_10ns)\n",
    "\n",
    "    # Compute the corresponding error in km/s, based on the error factor\n",
    "    err_vel = _vel_cal[chnl]['err_fac'] * mean_vel\n",
    "\n",
    "    # Return the mean and error value\n",
    "    return (mean_vel, err_vel)\n",
    "\n",
    "def srama_velocity_2009(chnl, trise, amp=np.inf, chk=True):\n",
    "    \"\"\"\n",
    "    Function srama_velocity_2009\n",
    "\n",
    "    This function computes the mean velocity and corresponding error for a\n",
    "    given channel rise time. The rise time shall be given in micro seconds and\n",
    "    the returned dictionary, that contains the computed values are given in\n",
    "    km/s. The functions are determined by [1].\n",
    "\n",
    "    Parameters\n",
    "    ----------\n",
    "    chnl : str\n",
    "        Requested channel calibration function. Available options:\n",
    "            'cat_qc'\n",
    "            'iid_qt'\n",
    "            'iid_qi'\n",
    "\n",
    "    trise : int, float\n",
    "        Rise time value.\n",
    "        Physical Quantity: microseconds\n",
    "\n",
    "    amp : int, float, optional\n",
    "        Amplitude of the corresponding signal. This value is used to verify\n",
    "        the amplitude constrains for each calibration function. Per default\n",
    "        the amplitude is to infinity.\n",
    "        Physical Quantity: femtoCoulomb\n",
    "\n",
    "    chk : bool, optional\n",
    "        If true (default) the exception DefinitionsRangeError is raised, if\n",
    "        the rise time(s) and / or amplitude(s) are outside the allowed\n",
    "        domain.\n",
    "\n",
    "    Returns\n",
    "    -------\n",
    "    out : tuple\n",
    "        Tuple with the mean and error velocity.\n",
    "\n",
    "        Pysical Quantity: 'mean' : km/s\n",
    "                          'err'  : km/s\n",
    "\n",
    "    Raises\n",
    "    ------\n",
    "    DefinitionRangeError\n",
    "        If the given parameters are not within the valid math domain the\n",
    "        DefinitionRangeError is raised.\n",
    "\n",
    "    Notes:\n",
    "    ------\n",
    "    All three functions are defined within a certain rise time and\n",
    "    amplitude domain. If the optional parameter chk is set to True, the\n",
    "    function will check the values with the allowed range and raises an\n",
    "    exception if a domain is violated. The following table lists the\n",
    "    definition ranges, where trise_min and trise_max are the lower and upper\n",
    "    range for trise, respectively, and amp_min is the lower boundary of the\n",
    "    amplitude:\n",
    "               | trise_min | trise_max || amp_min\n",
    "       --------|-----------|-----------||---------\n",
    "        cat_qc | 0.2       | 30.0      || 10\n",
    "       --------|-----------|-----------||---------\n",
    "        iid_qt | 2.5       | 80.0      || 65\n",
    "       --------|-----------|-----------||---------\n",
    "        iid_qi | 1.0       | 75.0      || 20\n",
    "\n",
    "    References\n",
    "    ----------\n",
    "    [1] R. Srama. Cassini-Huygens and Beyond – Tools for Dust Astronomy.\n",
    "        Habilitation, Fakultät für Luft- und Raumfahrttechnik und Geodäsie\n",
    "        der Universität Stuttgart, 2009.\n",
    "\n",
    "    Examples\n",
    "    --------\n",
    "    >>> srama_velocity_2009(chnl='cat_qc', trise=10, amp=15)\n",
    "    (3.5111214630124583, 1.4746710144652324)\n",
    "\n",
    "    Setting an out-of-range value leads to a DefinitionRangeError:\n",
    "\n",
    "    >>> srama_velocity_2009(chnl='cat_qc', trise=0.1, amp=15)\n",
    "    DefinitionRangeError: Out of Range. Please set the parameters within the\n",
    "    following range:\n",
    "\n",
    "    trise (microseconds): [0.2, 30.0]\n",
    "    amp (femtoCoulomb):   [10.0, +inf]\n",
    "\n",
    "    However one can deactivate this setting:\n",
    "\n",
    "    >>> srama_velocity_2009('cat_qc', trise=0.1, amp=15, chk=False)\n",
    "    (184.63482349254113, 77.54662586686727)\n",
    "\n",
    "    ... that does not prevent, however, math domain errors:\n",
    "\n",
    "    >>> srama_velocity_2009('cat_qc', trise=0.0, amp=15, chk=False)\n",
    "    ZeroDivisionError: 0.0 cannot be raised to a negative power\n",
    "\n",
    "    Negative rise times lead to complex number, that has no technical or\n",
    "    physical meaning. These values are only returned, if the chk parameter\n",
    "    is set to False\n",
    "\n",
    "    \"\"\"\n",
    "\n",
    "    # Lower the 'chnl' characters\n",
    "    chnl = chnl.lower()\n",
    "\n",
    "    # Definition of each calibration function, namely of CAT QC, IID QT and\n",
    "    # IID QI. Each function is defined as a lambda operator and is only used\n",
    "    # within this function\n",
    "    #\n",
    "    # CAT QC: microseconds -> km/s\n",
    "    mean_vel_cat_qc = lambda trise: 1.7 + 19.2 * (trise ** (-0.979)) - 0.0204 * trise\n",
    "\n",
    "    # IID QT: microseconds -> km/s\n",
    "    mean_vel_iid_qt = lambda trise: -240 + 361 * (trise ** (-0.117)) + 0.338 * trise\n",
    "\n",
    "    # IID QI: microseconds -> km/s\n",
    "    mean_vel_iid_qi = lambda trise: -55.3 + 253 * (trise ** (-0.423)) + 0.222 * trise\n",
    "\n",
    "    # Dictionary that summarizes all parameters, functions, etc. for each\n",
    "    # channel. Each sub-dictionary contains the info for each channel\n",
    "    # separately.\n",
    "    #\n",
    "    # Structure\n",
    "    # CHANNEL\n",
    "    #\n",
    "    #     Mean function (lambda operator)\n",
    "    #     Velocity error factor\n",
    "    #     Minimum rise time in microseconds\n",
    "    #     Maximum rise time in microseconds\n",
    "    #     Minimum amplitude in femtoCoulomb\n",
    "    _vel_cal = {'cat_qc': \\\n",
    "                    {\n",
    "                        'mean_func': mean_vel_cat_qc, \\\n",
    "                        'err_fac':   0.42, \\\n",
    "                        'trise_min': 0.2, \\\n",
    "                        'trise_max': 30.0, \\\n",
    "                        'amp_min':   10.0\n",
    "                    }, \\\n",
    "                'iid_qt': \\\n",
    "                    {\n",
    "                        'mean_func': mean_vel_iid_qt, \\\n",
    "                        'err_fac':   0.67, \\\n",
    "                        'trise_min': 2.5, \\\n",
    "                        'trise_max': 80.0, \\\n",
    "                        'amp_min':   65.0\n",
    "                    }, \\\n",
    "                'iid_qi': \\\n",
    "                    {\n",
    "                        'mean_func': mean_vel_iid_qi, \\\n",
    "                        'err_fac':   0.62, \\\n",
    "                        'trise_min': 1.0, \\\n",
    "                        'trise_max': 75.0, \\\n",
    "                        'amp_min':   20.0\n",
    "                    }\n",
    "               }\n",
    "\n",
    "    # If the 'chk' parameter is set to True, the if clause will check if the\n",
    "    # rise time and amplitude are within the allowed range.\n",
    "    if chk:\n",
    "        if (\n",
    "                not _vel_cal[chnl]['trise_min'] < trise < _vel_cal[chnl]['trise_max'] or\n",
    "                not _vel_cal[chnl]['amp_min'] < amp\n",
    "            ):\n",
    "\n",
    "            # If the values are outside the definition range, raise the\n",
    "            # DefinitionRangeError with the allowed rise time and amplitude\n",
    "            # values.\n",
    "            raise DefinitionRangeError(trise_min=_vel_cal[chnl]['trise_min'], \\\n",
    "                                       trise_max=_vel_cal[chnl]['trise_max'], \\\n",
    "                                       amp_min=_vel_cal[chnl]['amp_min'])\n",
    "            \n",
    "\n",
    "    # Compute the mean velocity in km/s, based on the rise time\n",
    "    mean_vel = _vel_cal[chnl]['mean_func'](trise)\n",
    "\n",
    "    # Compute the corresponding error in km/s, based on the error factor\n",
    "    err_vel = _vel_cal[chnl]['err_fac'] * mean_vel\n",
    "\n",
    "    # Return the mean and error value\n",
    "    return (mean_vel, err_vel)"
   ]
  },
  {
   "cell_type": "code",
   "execution_count": 5,
   "id": "cf85aa6e-fef1-4ea7-8d6d-5936cc0208f5",
   "metadata": {
    "tags": []
   },
   "outputs": [],
   "source": [
    "#pip install protobuf==3.20.3"
   ]
  },
  {
   "cell_type": "markdown",
   "id": "02fa90c9-a882-41db-937e-7583da1b31fe",
   "metadata": {
    "tags": []
   },
   "source": [
    "## \"Original data view\""
   ]
  },
  {
   "cell_type": "code",
   "execution_count": 6,
   "id": "415b6a57-1f6f-42bb-af2d-fc5baabe51a5",
   "metadata": {
    "tags": []
   },
   "outputs": [
    {
     "data": {
      "text/plain": [
       "Text(0, 0.5, 'Velocity in km/s')"
      ]
     },
     "execution_count": 6,
     "metadata": {},
     "output_type": "execute_result"
    },
    {
     "data": {
      "image/png": "[encoded data removed]",
      "text/plain": [
       "<Figure size 576x360 with 1 Axes>"
      ]
     },
     "metadata": {
      "needs_background": "dark"
     },
     "output_type": "display_data"
    }
   ],
   "source": [
    "# Let's take a look again at the 1 D data (Velocity vs. the QI rise time of an IID impact)\n",
    "plt.figure(figsize=(8, 5))\n",
    "\n",
    "plt.scatter(iid_qi_cal_df[\"QI_TR\"],\n",
    "            iid_qi_cal_df[\"PSU_VEL\"],\n",
    "            s=1,\n",
    "            alpha=0.5,\n",
    "            color=\"w\")\n",
    "\n",
    "plt.grid(linestyle=\"dashed\", alpha=.3)\n",
    "\n",
    "plt.xlim(80, 0)\n",
    "\n",
    "plt.xlabel(\"QI rise time in $\\mu s$\")\n",
    "plt.ylabel(\"Velocity in km/s\")"
   ]
  },
  {
   "cell_type": "markdown",
   "id": "ca696a92-952c-46a5-b5af-8423e0a73a99",
   "metadata": {
    "tags": []
   },
   "source": [
    "## Bayesian Blocks - Distribution\n",
    "\n",
    "Before we create our ML model, let's use Bayesian Blocks to compute the sample weightning for the train / test splitting"
   ]
  },
  {
   "cell_type": "code",
   "execution_count": 7,
   "id": "dc95967c-98f6-4eb6-b129-3d4e87fd56d9",
   "metadata": {
    "tags": []
   },
   "outputs": [],
   "source": [
    "# Creating Bayesian Blocks for the rise time\n",
    "import astropy.stats\n",
    "bblocks_vals, bblocks_edges = astropy.stats.histogram(a=iid_qi_cal_df[\"QI_TR\"],\n",
    "                                                      bins=\"blocks\")"
   ]
  },
  {
   "cell_type": "code",
   "execution_count": 8,
   "id": "77336dc3-6ff6-4673-b129-3430bc24131b",
   "metadata": {
    "tags": []
   },
   "outputs": [
    {
     "data": {
      "text/plain": [
       "Text(60.170390624999996, 0.5, 'Number of datapoints')"
      ]
     },
     "execution_count": 8,
     "metadata": {},
     "output_type": "execute_result"
    },
    {
     "data": {
      "image/png": "[encoded data removed]",
      "text/plain": [
       "<Figure size 720x576 with 2 Axes>"
      ]
     },
     "metadata": {
      "needs_background": "dark"
     },
     "output_type": "display_data"
    }
   ],
   "source": [
    "# Visualize the blocks above the shown scatter plot\n",
    "import astropy.visualization\n",
    "\n",
    "fig, (ax1, ax2) = plt.subplots(nrows=2,\n",
    "                               ncols=1,\n",
    "                               figsize=(10, 8),\n",
    "                               sharex=True,\n",
    "                               height_ratios=[1, 2])\n",
    "\n",
    "# Below: the calibration data as data points ...\n",
    "ax2.scatter(iid_qi_cal_df[\"QI_TR\"],\n",
    "            iid_qi_cal_df[\"PSU_VEL\"],\n",
    "            s=1,\n",
    "            alpha=0.5,\n",
    "            color=\"w\")\n",
    "\n",
    "# Above: the Bayesian Blocks\n",
    "_, _, _ = astropy.visualization.hist(x=iid_qi_cal_df[\"QI_TR\"],\n",
    "                                     bins=\"blocks\",\n",
    "                                     ax=ax1,\n",
    "                                     facecolor=\"k\",\n",
    "                                     edgecolor=\"tab:blue\")\n",
    "ax1.set_yscale(\"log\")\n",
    "ax1.set_ylim(1, 2000)\n",
    "\n",
    "plt.tight_layout()\n",
    "\n",
    "plt.xlim(80, 0)\n",
    "\n",
    "ax2.set_xlabel(\"QI rise time in $\\mu s$\")\n",
    "ax2.set_ylabel(\"Velocity in km/s\")\n",
    "ax2.set_yscale(\"log\")\n",
    "ax1.set_ylabel(\"Number of datapoints\")"
   ]
  },
  {
   "cell_type": "markdown",
   "id": "1ad01480-8351-4562-800e-eaf9b402847d",
   "metadata": {
    "tags": []
   },
   "source": [
    "## Bayesian-based weighting"
   ]
  },
  {
   "cell_type": "code",
   "execution_count": 9,
   "id": "759593c1-5bba-497b-bb87-72c95aedd5f1",
   "metadata": {
    "tags": []
   },
   "outputs": [],
   "source": [
    "# Add a Bayesian Block weighting to the dataframe\n",
    "iid_qi_cal_df[\"QI_TR_Bayesian_Weight\"] = \\\n",
    "    iid_qi_cal_df[\"QI_TR\"].apply(lambda x: bblocks_vals[np.where(x - bblocks_edges > 0,\n",
    "                                                                 x - bblocks_edges,\n",
    "                                                                 np.inf).argmin()])\n",
    "\n",
    "# We need to \"inverse\" the weight: we have only a few short-rise-time values and need to \"tell\"\n",
    "# the ML algorithm that it shall take a more weighted \"look\" on these data. These impact corresponds\n",
    "# to fast impact - maybe originating from interstellar space! High accuracy is needed!\n",
    "iid_qi_cal_df.loc[:, \"QI_TR_Bayesian_Weight\"] = 1.0 / iid_qi_cal_df[\"QI_TR_Bayesian_Weight\"]\n",
    "iid_qi_cal_df.loc[:, \"QI_TR_Bayesian_Weight\"] = iid_qi_cal_df.loc[:, \"QI_TR_Bayesian_Weight\"] \\\n",
    "    / iid_qi_cal_df.loc[:, \"QI_TR_Bayesian_Weight\"].min()"
   ]
  },
  {
   "cell_type": "code",
   "execution_count": 10,
   "id": "f2194e51-067c-4ace-bf11-afcc66b8b2b7",
   "metadata": {
    "tags": []
   },
   "outputs": [],
   "source": [
    "# It may be help to compute our ML model in LOG10 space\n",
    "iid_qi_cal_df.loc[:, \"PSU_VEL\"] = np.log10(iid_qi_cal_df[\"PSU_VEL\"])"
   ]
  },
  {
   "cell_type": "code",
   "execution_count": 11,
   "id": "bb40d94e-bc7b-49c8-9eef-7bdd5e040b44",
   "metadata": {
    "tags": []
   },
   "outputs": [],
   "source": [
    "# Extract input and output values (and weight)\n",
    "pre_data = iid_qi_cal_df.to_numpy()"
   ]
  },
  {
   "cell_type": "markdown",
   "id": "72b89e00-9a35-4680-b092-8778c7003641",
   "metadata": {
    "tags": []
   },
   "source": [
    "## Machine Learning - Custom Loss Function\n",
    "\n",
    "Our regression task is simple: the loss function is based on MSE and the training process tries to minimize the loss. However, to make the calibration more comparable to the already existing ones, let's try to \"enforce\" the output function: the function shall be decreasing w.r.t. a larger rise time. Consequently: a larger rise time will correspond to a slower impact velocity. However, 2 losses: MSE and this custom one, need a proper \"balancing\""
   ]
  },
  {
   "cell_type": "code",
   "execution_count": 12,
   "id": "20da7210-3c5a-40e9-920a-7562aa7dc5e8",
   "metadata": {
    "tags": []
   },
   "outputs": [
    {
     "name": "stdout",
     "output_type": "stream",
     "text": [
      "y_pred: [[20. 19. 15. 10. 11.  5.  2.]]\n",
      "Consecutive differences: [[-1. -4. -5.  1. -6. -3.]]\n",
      "Violation term: [[0. 0. 0. 1. 0. 0.]]\n"
     ]
    },
    {
     "name": "stderr",
     "output_type": "stream",
     "text": [
      "2023-06-11 08:13:24.214830: I tensorflow/core/platform/cpu_feature_guard.cc:151] This TensorFlow binary is optimized with oneAPI Deep Neural Network Library (oneDNN) to use the following CPU instructions in performance-critical operations:  AVX2 FMA\n",
      "To enable them in other operations, rebuild TensorFlow with the appropriate compiler flags.\n"
     ]
    }
   ],
   "source": [
    "def decreasing_loss(y_true, y_pred):\n",
    "    \n",
    "    # Calculate the difference between consecutive outputs\n",
    "    diff = y_pred[:, 1:] - y_pred[:, :-1]\n",
    "    \n",
    "    # Penalize positive differences\n",
    "    violation = tf.nn.relu(diff)\n",
    "    \n",
    "    # Sum up the violations\n",
    "    loss = K.sum(violation)\n",
    "    \n",
    "    return loss\n",
    "\n",
    "# A short example\n",
    "y_pred = np.array([[20.0, 19.0, 15.0, 10.0, 11.0, 5.0, 2.0]])\n",
    "\n",
    "print(f\"y_pred: {y_pred}\")\n",
    "diff = y_pred[:, 1:] - y_pred[:, :-1]\n",
    "print(f\"Consecutive differences: {diff}\")\n",
    "violation = tf.nn.relu(diff)\n",
    "print(f\"Violation term: {violation}\")"
   ]
  },
  {
   "cell_type": "markdown",
   "id": "d69c0e96-eaf3-490c-890a-5068b114eac9",
   "metadata": {
    "tags": []
   },
   "source": [
    "## Machine Learning - Hypermodel"
   ]
  },
  {
   "cell_type": "code",
   "execution_count": 13,
   "id": "6ef72cb1-3e74-4e79-8e81-39655fa63180",
   "metadata": {
    "tags": []
   },
   "outputs": [],
   "source": [
    "# We define a model that can be used and interpreted by Keras Tuner\n",
    "def build_model(hp):\n",
    "    \n",
    "    # Input shape is 4: rise time and charge for the QT and QI, respectively\n",
    "    inputs = tf.keras.Input(shape=(1,),\n",
    "                            name=\"iid_data\",)\n",
    "\n",
    "    # Each layer will contain some \"range\" of activation units that will be used by Keras Tuner\n",
    "    layer = tf.keras.layers.Dense(units=hp.Int(\"1st_units\",\n",
    "                                               min_value=32,\n",
    "                                               max_value=128,\n",
    "                                               step=32),\n",
    "                                  activation=\"relu\",)(inputs)\n",
    "\n",
    "    if hp.Boolean(\"1st_dropout\"):\n",
    "        layer = tf.keras.layers.Dropout(hp.Float(\"1st_dr_rate\",\n",
    "                                                 min_value=0.1,\n",
    "                                                 max_value=0.5,\n",
    "                                                 step=0.1))(layer)\n",
    "\n",
    "    layer = tf.keras.layers.Dense(units=hp.Int(\"2nd_units\",\n",
    "                                               min_value=16,\n",
    "                                               max_value=64,\n",
    "                                               step=16),\n",
    "                                  activation=\"relu\",)(layer)\n",
    "\n",
    "    if hp.Boolean(\"2nd_dropout\"):\n",
    "        layer = tf.keras.layers.Dropout(hp.Float(\"2nd_dr_rate\",\n",
    "                                                 min_value=0.1,\n",
    "                                                 max_value=0.5,\n",
    "                                                 step=0.1))(layer)\n",
    "                                  \n",
    "    # One \"branch\" for the velocity and one for the log10 mass\n",
    "    psu_layer = tf.keras.layers.Dense(units=hp.Int(\"1st_vel_activation\",\n",
    "                                                   min_value=4,\n",
    "                                                   max_value=16,\n",
    "                                                   step=4),\n",
    "                                      activation=\"relu\",)(layer)\n",
    "    \n",
    "    # Velocity output layer\n",
    "    output_psu_layer = tf.keras.layers.Dense(units=1,\n",
    "                                             name=\"output_PSU\")(psu_layer)\n",
    "\n",
    "\n",
    "    # Build up the model with the two output branches\n",
    "    model = tf.keras.Model(inputs=inputs, outputs=output_psu_layer)\n",
    "\n",
    "    # We add now our custom loss function. Consider the corresponding weights! Try to find the best\n",
    "    # solution or edit the loss function to e.g., \"focus\" more on shorter rise times\n",
    "    model.compile(optimizer=\"adam\",\n",
    "                  loss=[\"mean_squared_error\", decreasing_loss],\n",
    "                  loss_weights=[1.0, 1.0],\n",
    "                  weighted_metrics=[tf.keras.metrics.RootMeanSquaredError(),\n",
    "                                    \"mean_absolute_error\"])\n",
    "    \n",
    "    return model"
   ]
  },
  {
   "cell_type": "code",
   "execution_count": 14,
   "id": "390b789c-1226-4b43-b758-b65ad615023a",
   "metadata": {
    "tags": []
   },
   "outputs": [],
   "source": [
    "# Define a callback function that conducts Early Stopping, based on the validation loss\n",
    "es_callback = tf.keras.callbacks.EarlyStopping(monitor='val_loss',\n",
    "                                               patience=10,\n",
    "                                               restore_best_weights=True)\n",
    "\n",
    "# Creat a custom Keras Tuner ... Tuner\n",
    "class CVTuner(keras_tuner.engine.tuner.Tuner):\n",
    "    \n",
    "    # This function runs during \"search\" and contains a scikit-learn based K-Fold cross validation\n",
    "    def run_trial(self, trial, data, batch_size=8, epochs=1):\n",
    "        \n",
    "        # Define the 5-K-Fold cross validation -> 1/5 are for testing (20 %), rest (80 %) are for \n",
    "        # training and validation\n",
    "        cv = sklearn.model_selection.KFold(5)\n",
    "        \n",
    "        # Create a list that stores the resulting validation loses during the 5 fold validation\n",
    "        # process\n",
    "        val_losses = []\n",
    "\n",
    "        # Conduct now a training process (5 times)\n",
    "        for _ in range(5):\n",
    "          \n",
    "            # Create now stratified train / val split\n",
    "            x_pre_train, x_pre_val = \\\n",
    "                sklearn.model_selection.train_test_split(data,\n",
    "                                                         stratify=data[:, -1],\n",
    "                                                         test_size=0.1)\n",
    "\n",
    "            # Enforce a proper order, based on the rise time column\n",
    "            x_pre_train = x_pre_train[x_pre_train[:, 0].argsort()]\n",
    "            x_pre_val = x_pre_val[x_pre_val[:, 0].argsort()]\n",
    "            \n",
    "            x_train = x_pre_train[:, 0]\n",
    "            x_train = x_train.reshape(-1, 1)\n",
    "            \n",
    "            y_train = x_pre_train[:, 1]\n",
    "            y_train = y_train.reshape(-1, 1)\n",
    "            \n",
    "            train_weights = x_pre_train[:, 2]\n",
    "\n",
    "            x_val = x_pre_val[:, 0]\n",
    "            x_val = x_val.reshape(-1, 1)\n",
    "            \n",
    "            y_val = x_pre_val[:, 1]\n",
    "            y_val = y_val.reshape(-1, 1)\n",
    "        \n",
    "            val_weights = x_pre_val[:, 2]\n",
    "\n",
    "            # Conduct the training. Note: shuffle needs to be set to false, otherwise the order of\n",
    "            # the input is randomized and our custom function does not work anymore!\n",
    "            model = self.hypermodel.build(trial.hyperparameters)\n",
    "            model.fit(x_train,\n",
    "                      y_train,\n",
    "                      validation_data=[x_val, y_val, val_weights],\n",
    "                      batch_size=batch_size,\n",
    "                      epochs=epochs,\n",
    "                      callbacks=[es_callback],\n",
    "                      verbose=0,\n",
    "                      sample_weight=train_weights,\n",
    "                      shuffle=False)\n",
    "            \n",
    "            # Store the validation loss\n",
    "            val_losses.append(min(model.history.history['val_loss']))\n",
    "\n",
    "        # Compute now the mean of all 5 validation losses as the final result\n",
    "        self.oracle.update_trial(trial.trial_id, {'val_loss': np.mean(val_losses)})\n",
    "\n",
    "# Build up the Tuner\n",
    "tuner = CVTuner(hypermodel=build_model,\n",
    "                oracle=keras_tuner.oracles.BayesianOptimization(\n",
    "                    objective='val_loss',\n",
    "                    max_trials=25),\n",
    "                overwrite=True)"
   ]
  },
  {
   "cell_type": "code",
   "execution_count": 15,
   "id": "896b1e22-a1de-4c8d-8cbc-ad2af478cb82",
   "metadata": {
    "tags": []
   },
   "outputs": [],
   "source": [
    "# Yes ... yes ... this is not best practice: we scale all our data and split is afterwards. But:\n",
    "# we consider the min-max scaler that \"squeezes\" all data between 0 and 1 (the rise times). The same\n",
    "# method is also applied on images (data ranging from 0 to 255). Since we will have NO further\n",
    "# calibration data, let's assume that the upper and lower boundaries are set -> thus the scaler\n",
    "X_scaler = sklearn.preprocessing.MinMaxScaler()\n",
    "pre_data[:, 0] = X_scaler.fit_transform(pre_data[:, 0].reshape(-1, 1)).transpose()[0]"
   ]
  },
  {
   "cell_type": "code",
   "execution_count": 16,
   "id": "8da5f1ea-71ff-4557-8bb4-77b3c5775a46",
   "metadata": {
    "tags": []
   },
   "outputs": [
    {
     "name": "stdout",
     "output_type": "stream",
     "text": [
      "Trial 25 Complete [00h 00m 31s]\n",
      "val_loss: 0.12400455623865128\n",
      "\n",
      "Best val_loss So Far: 0.08986439704895019\n",
      "Total elapsed time: 00h 15m 39s\n",
      "INFO:tensorflow:Oracle triggered exit\n"
     ]
    }
   ],
   "source": [
    "# Conduct now a hyper-parameter search\n",
    "tuner.search(data=pre_data, epochs=100)"
   ]
  },
  {
   "cell_type": "markdown",
   "id": "10fe0b8b-e813-45dd-8c82-24d4ea752a67",
   "metadata": {
    "tags": []
   },
   "source": [
    "## Best ML Model"
   ]
  },
  {
   "cell_type": "code",
   "execution_count": 17,
   "id": "5706341a-7f82-4ca1-9053-ca17be31ff94",
   "metadata": {
    "tags": []
   },
   "outputs": [],
   "source": [
    "# Obtain the hyper-parameters of the best model and re-build the model, based on these paramters\n",
    "best_hps = tuner.get_best_hyperparameters()[0]\n",
    "model = tuner.hypermodel.build(best_hps)"
   ]
  },
  {
   "cell_type": "code",
   "execution_count": 18,
   "id": "7cfa7860-4ff6-408e-a78e-12bae2fdb346",
   "metadata": {
    "tags": []
   },
   "outputs": [
    {
     "name": "stdout",
     "output_type": "stream",
     "text": [
      "Model: \"model_126\"\n",
      "_________________________________________________________________\n",
      " Layer (type)                Output Shape              Param #   \n",
      "=================================================================\n",
      " iid_data (InputLayer)       [(None, 1)]               0         \n",
      "                                                                 \n",
      " dense_378 (Dense)           (None, 96)                192       \n",
      "                                                                 \n",
      " dropout_120 (Dropout)       (None, 96)                0         \n",
      "                                                                 \n",
      " dense_379 (Dense)           (None, 16)                1552      \n",
      "                                                                 \n",
      " dense_380 (Dense)           (None, 16)                272       \n",
      "                                                                 \n",
      " output_PSU (Dense)          (None, 1)                 17        \n",
      "                                                                 \n",
      "=================================================================\n",
      "Total params: 2,033\n",
      "Trainable params: 2,033\n",
      "Non-trainable params: 0\n",
      "_________________________________________________________________\n"
     ]
    }
   ],
   "source": [
    "model.summary()"
   ]
  },
  {
   "cell_type": "code",
   "execution_count": 19,
   "id": "bdc1fadf-af54-41f0-bd7d-96ae193963ca",
   "metadata": {
    "tags": []
   },
   "outputs": [],
   "source": [
    "# Create now stratified train / val split\n",
    "x_pre_train, x_pre_val = \\\n",
    "    sklearn.model_selection.train_test_split(pre_data,\n",
    "                                             stratify=pre_data[:, -1],\n",
    "                                             test_size=0.1)\n",
    "\n",
    "x_pre_train = x_pre_train[x_pre_train[:, 0].argsort()]\n",
    "x_pre_val = x_pre_val[x_pre_val[:, 0].argsort()]\n",
    "\n",
    "x_train = x_pre_train[:, 0]\n",
    "x_train = x_train.reshape(-1, 1)\n",
    "\n",
    "y_train = x_pre_train[:, 1]\n",
    "y_train = y_train.reshape(-1, 1)\n",
    "\n",
    "train_weights = x_pre_train[:, 2]\n",
    "\n",
    "x_val = x_pre_val[:, 0]\n",
    "x_val = x_val.reshape(-1, 1)\n",
    "\n",
    "y_val = x_pre_val[:, 1]\n",
    "y_val = y_val.reshape(-1, 1)\n",
    "\n",
    "val_weights = x_pre_val[:, 2]"
   ]
  },
  {
   "cell_type": "code",
   "execution_count": 20,
   "id": "83ba67cf-208e-4b82-a180-ee1332e829e2",
   "metadata": {
    "tags": []
   },
   "outputs": [
    {
     "data": {
      "text/plain": [
       "<keras.callbacks.History at 0x7fe2cc3dee20>"
      ]
     },
     "execution_count": 20,
     "metadata": {},
     "output_type": "execute_result"
    }
   ],
   "source": [
    "# Now we create our final model. But without any cross-validation. This could be a nice task for the\n",
    "# reader to finalize it using 5-K-Fold cross validation\n",
    "model.fit(x=x_train,\n",
    "          y=y_train,\n",
    "          batch_size=8,\n",
    "          epochs=300,\n",
    "          validation_data=[x_val, y_val, val_weights],\n",
    "          verbose=0,\n",
    "          callbacks=[es_callback],\n",
    "          sample_weight=train_weights,\n",
    "          shuffle=False)"
   ]
  },
  {
   "cell_type": "code",
   "execution_count": 21,
   "id": "55c4b560-c115-4488-b928-864f354178a0",
   "metadata": {
    "tags": []
   },
   "outputs": [
    {
     "data": {
      "text/plain": [
       "<matplotlib.legend.Legend at 0x7fe2cd5a19a0>"
      ]
     },
     "execution_count": 21,
     "metadata": {},
     "output_type": "execute_result"
    },
    {
     "data": {
      "image/png": "[encoded data removed]",
      "text/plain": [
       "<Figure size 576x360 with 1 Axes>"
      ]
     },
     "metadata": {
      "needs_background": "dark"
     },
     "output_type": "display_data"
    }
   ],
   "source": [
    "# Plotting the loss function(s)\n",
    "plt.figure(figsize=(8,5))\n",
    "plt.plot(model.history.history['loss'], label=\"loss\")\n",
    "plt.plot(model.history.history['val_loss'], label=\"val_loss\")\n",
    "plt.xlabel(r\"Epoch\")\n",
    "plt.ylabel(r\"Loss\")\n",
    "plt.legend()"
   ]
  },
  {
   "cell_type": "markdown",
   "id": "7c766990-56eb-469e-93f1-af48e19db6d9",
   "metadata": {
    "tags": []
   },
   "source": [
    "## Plotting the final model"
   ]
  },
  {
   "cell_type": "code",
   "execution_count": 22,
   "id": "04f0748b-763e-4e73-ad9a-fa72a69c0d0c",
   "metadata": {
    "tags": []
   },
   "outputs": [],
   "source": [
    "# Create a range of rise time and scale it accordingly\n",
    "tr = np.linspace(5, 80, 100)\n",
    "tr = tr.reshape(-1, 1)\n",
    "tr_scaled = X_scaler.transform(tr)\n",
    "\n",
    "# Predict the corresponding velocities and re-scale them\n",
    "vel = model.predict(tr_scaled)"
   ]
  },
  {
   "cell_type": "code",
   "execution_count": 23,
   "id": "f232f6bc-ddb3-4aa9-94bd-cea0e3aaeaeb",
   "metadata": {
    "tags": []
   },
   "outputs": [
    {
     "data": {
      "text/plain": [
       "Text(0, 0.5, 'Velocity in km/s')"
      ]
     },
     "execution_count": 23,
     "metadata": {},
     "output_type": "execute_result"
    },
    {
     "data": {
      "image/png": "[encoded data removed]",
      "text/plain": [
       "<Figure size 720x576 with 1 Axes>"
      ]
     },
     "metadata": {
      "needs_background": "dark"
     },
     "output_type": "display_data"
    }
   ],
   "source": [
    "# Below: the calibration data as data points ...\n",
    "plt.figure(figsize=(10, 8))\n",
    "\n",
    "# Note: we worked in the log10 domain\n",
    "plt.scatter(X_scaler.inverse_transform(iid_qi_cal_df[\"QI_TR\"].values.reshape(-1, 1)),\n",
    "            10.0**iid_qi_cal_df[\"PSU_VEL\"],\n",
    "            s=1,\n",
    "            alpha=0.5,\n",
    "            color=\"w\")\n",
    "\n",
    "plt.plot(tr, 10.0**vel, \"yellow\")\n",
    "\n",
    "plt.xlim(80, 0)\n",
    "plt.xlabel(\"QI rise time in $\\mu s$\")\n",
    "plt.ylabel(\"Velocity in km/s\")"
   ]
  },
  {
   "cell_type": "code",
   "execution_count": 24,
   "id": "7e443736-e6a7-4487-bbf3-a262e01e119c",
   "metadata": {},
   "outputs": [
    {
     "data": {
      "text/plain": [
       "Text(0, 0.5, 'Velocity in km/s')"
      ]
     },
     "execution_count": 24,
     "metadata": {},
     "output_type": "execute_result"
    },
    {
     "data": {
      "image/png": "[encoded data removed]",
      "text/plain": [
       "<Figure size 720x576 with 1 Axes>"
      ]
     },
     "metadata": {
      "needs_background": "dark"
     },
     "output_type": "display_data"
    }
   ],
   "source": [
    "# Compute the velocity values and corresponding errors for both functions\n",
    "qi_tr_range = np.linspace(8, 60)\n",
    "\n",
    "vel_srama2000 = [srama_velocity_2000(chnl=\"IID_QI\", trise=k)[0] for k in qi_tr_range]\n",
    "vel_srama2009 = [srama_velocity_2009(chnl=\"IID_QI\", trise=k, chk=False)[0] for k in qi_tr_range]\n",
    "\n",
    "vel_srama2000 = np.array(vel_srama2000)\n",
    "vel_srama2009 = np.array(vel_srama2009)\n",
    "\n",
    "# Plot the functions and also the calibration data points\n",
    "plt.figure(figsize=(10, 8))\n",
    "plt.scatter(X_scaler.inverse_transform(iid_qi_cal_df[\"QI_TR\"].values.reshape(-1, 1)),\n",
    "            10.0**iid_qi_cal_df[\"PSU_VEL\"],\n",
    "            s=1, alpha=0.5, color=\"w\")\n",
    "\n",
    "# Plot the Srama 2000 function\n",
    "plt.plot(qi_tr_range, vel_srama2000,\n",
    "         color=\"blue\", lw=2, label=\"Srama 2000\")\n",
    "\n",
    "# Plot the Srama 2009 function\n",
    "plt.plot(qi_tr_range, vel_srama2009,\n",
    "         color=\"red\", lw=2, label=\"Srama 2009\")\n",
    "\n",
    "# The ML model\n",
    "plt.plot(tr, 10.0**vel,\n",
    "         color=\"yellow\",\n",
    "         lw=2, label=\"ML model\")\n",
    "\n",
    "plt.legend(fancybox=True, loc=\"upper left\")\n",
    "\n",
    "plt.grid(linestyle=\"dashed\", alpha=.3)\n",
    "\n",
    "plt.xlim(80, 0)\n",
    "plt.xlabel(\"QI rise time in $\\mu s$\")\n",
    "plt.ylabel(\"Velocity in km/s\")"
   ]
  }
 ],
 "metadata": {
  "kernelspec": {
   "display_name": "Python 3",
   "language": "python",
   "name": "python3"
  },
  "language_info": {
   "codemirror_mode": {
    "name": "ipython",
    "version": 3
   },
   "file_extension": ".py",
   "mimetype": "text/x-python",
   "name": "python",
   "nbconvert_exporter": "python",
   "pygments_lexer": "ipython3",
   "version": "3.11.4"
  }
 },
 "nbformat": 4,
 "nbformat_minor": 5
}
